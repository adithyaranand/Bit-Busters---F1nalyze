{
 "cells": [
  {
   "cell_type": "code",
   "execution_count": 1,
   "id": "31c28c7c",
   "metadata": {
    "_cell_guid": "b1076dfc-b9ad-4769-8c92-a6c4dae69d19",
    "_uuid": "8f2839f25d086af736a60e9eeb907d3b93b6e0e5",
    "execution": {
     "iopub.execute_input": "2024-06-29T05:37:22.099310Z",
     "iopub.status.busy": "2024-06-29T05:37:22.098883Z",
     "iopub.status.idle": "2024-06-29T05:37:22.969872Z",
     "shell.execute_reply": "2024-06-29T05:37:22.968705Z"
    },
    "papermill": {
     "duration": 0.882498,
     "end_time": "2024-06-29T05:37:22.972375",
     "exception": false,
     "start_time": "2024-06-29T05:37:22.089877",
     "status": "completed"
    },
    "tags": []
   },
   "outputs": [
    {
     "name": "stdout",
     "output_type": "stream",
     "text": [
      "/kaggle/input/f1nalyze-datathon-ieeecsmuj/sample_submission.csv\n",
      "/kaggle/input/f1nalyze-datathon-ieeecsmuj/validation.csv\n",
      "/kaggle/input/f1nalyze-datathon-ieeecsmuj/train.csv\n",
      "/kaggle/input/f1nalyze-datathon-ieeecsmuj/test.csv\n"
     ]
    }
   ],
   "source": [
    "# This Python 3 environment comes with many helpful analytics libraries installed\n",
    "# It is defined by the kaggle/python Docker image: https://github.com/kaggle/docker-python\n",
    "# For example, here's several helpful packages to load\n",
    "\n",
    "import numpy as np # linear algebra\n",
    "import pandas as pd # data processing, CSV file I/O (e.g. pd.read_csv)\n",
    "\n",
    "# Input data files are available in the read-only \"../input/\" directory\n",
    "# For example, running this (by clicking run or pressing Shift+Enter) will list all files under the input directory\n",
    "\n",
    "import os\n",
    "for dirname, _, filenames in os.walk('/kaggle/input'):\n",
    "    for filename in filenames:\n",
    "        print(os.path.join(dirname, filename))\n",
    "\n",
    "# You can write up to 20GB to the current directory (/kaggle/working/) that gets preserved as output when you create a version using \"Save & Run All\" \n",
    "# You can also write temporary files to /kaggle/temp/, but they won't be saved outside of the current session"
   ]
  },
  {
   "cell_type": "markdown",
   "id": "d321656c",
   "metadata": {
    "papermill": {
     "duration": 0.006894,
     "end_time": "2024-06-29T05:37:22.986691",
     "exception": false,
     "start_time": "2024-06-29T05:37:22.979797",
     "status": "completed"
    },
    "tags": []
   },
   "source": [
    "**Load the training data and testing data**\n",
    "\n",
    "* Store Training data in train_df\n",
    "* Store Testing data in test_df"
   ]
  },
  {
   "cell_type": "code",
   "execution_count": 2,
   "id": "04d9a88e",
   "metadata": {
    "execution": {
     "iopub.execute_input": "2024-06-29T05:37:23.003814Z",
     "iopub.status.busy": "2024-06-29T05:37:23.002790Z",
     "iopub.status.idle": "2024-06-29T05:38:05.475634Z",
     "shell.execute_reply": "2024-06-29T05:38:05.474576Z"
    },
    "papermill": {
     "duration": 42.484464,
     "end_time": "2024-06-29T05:38:05.478310",
     "exception": false,
     "start_time": "2024-06-29T05:37:22.993846",
     "status": "completed"
    },
    "tags": []
   },
   "outputs": [
    {
     "name": "stderr",
     "output_type": "stream",
     "text": [
      "/tmp/ipykernel_18/953543711.py:1: DtypeWarning: Columns (4,13,14,16,47) have mixed types. Specify dtype option on import or set low_memory=False.\n",
      "  train1_df=pd.read_csv(\"/kaggle/input/f1nalyze-datathon-ieeecsmuj/train.csv\")\n",
      "/tmp/ipykernel_18/953543711.py:2: DtypeWarning: Columns (13,16,36) have mixed types. Specify dtype option on import or set low_memory=False.\n",
      "  validation_df=pd.read_csv(\"/kaggle/input/f1nalyze-datathon-ieeecsmuj/validation.csv\")\n",
      "/tmp/ipykernel_18/953543711.py:3: DtypeWarning: Columns (13,16) have mixed types. Specify dtype option on import or set low_memory=False.\n",
      "  test_df=pd.read_csv(\"/kaggle/input/f1nalyze-datathon-ieeecsmuj/test.csv\")\n"
     ]
    }
   ],
   "source": [
    "train1_df=pd.read_csv(\"/kaggle/input/f1nalyze-datathon-ieeecsmuj/train.csv\")\n",
    "validation_df=pd.read_csv(\"/kaggle/input/f1nalyze-datathon-ieeecsmuj/validation.csv\")\n",
    "test_df=pd.read_csv(\"/kaggle/input/f1nalyze-datathon-ieeecsmuj/test.csv\")"
   ]
  },
  {
   "cell_type": "code",
   "execution_count": 3,
   "id": "9d6fd6b1",
   "metadata": {
    "execution": {
     "iopub.execute_input": "2024-06-29T05:38:05.495080Z",
     "iopub.status.busy": "2024-06-29T05:38:05.494195Z",
     "iopub.status.idle": "2024-06-29T05:38:05.535738Z",
     "shell.execute_reply": "2024-06-29T05:38:05.534528Z"
    },
    "papermill": {
     "duration": 0.05234,
     "end_time": "2024-06-29T05:38:05.537985",
     "exception": false,
     "start_time": "2024-06-29T05:38:05.485645",
     "status": "completed"
    },
    "tags": []
   },
   "outputs": [
    {
     "data": {
      "text/html": [
       "<div>\n",
       "<style scoped>\n",
       "    .dataframe tbody tr th:only-of-type {\n",
       "        vertical-align: middle;\n",
       "    }\n",
       "\n",
       "    .dataframe tbody tr th {\n",
       "        vertical-align: top;\n",
       "    }\n",
       "\n",
       "    .dataframe thead th {\n",
       "        text-align: right;\n",
       "    }\n",
       "</style>\n",
       "<table border=\"1\" class=\"dataframe\">\n",
       "  <thead>\n",
       "    <tr style=\"text-align: right;\">\n",
       "      <th></th>\n",
       "      <th>resultId</th>\n",
       "      <th>racerId</th>\n",
       "      <th>driverId</th>\n",
       "      <th>constructorId</th>\n",
       "      <th>number</th>\n",
       "      <th>grid</th>\n",
       "      <th>position_x</th>\n",
       "      <th>positionText_x</th>\n",
       "      <th>positionOrder</th>\n",
       "      <th>points</th>\n",
       "      <th>...</th>\n",
       "      <th>points_y</th>\n",
       "      <th>position</th>\n",
       "      <th>positionText_y</th>\n",
       "      <th>wins</th>\n",
       "      <th>constructorRef</th>\n",
       "      <th>company</th>\n",
       "      <th>nationality_y</th>\n",
       "      <th>url</th>\n",
       "      <th>status</th>\n",
       "      <th>result_driver_standing</th>\n",
       "    </tr>\n",
       "  </thead>\n",
       "  <tbody>\n",
       "    <tr>\n",
       "      <th>0</th>\n",
       "      <td>20025</td>\n",
       "      <td>833</td>\n",
       "      <td>642</td>\n",
       "      <td>51</td>\n",
       "      <td>2</td>\n",
       "      <td>1</td>\n",
       "      <td>1</td>\n",
       "      <td>1</td>\n",
       "      <td>1</td>\n",
       "      <td>9.0</td>\n",
       "      <td>...</td>\n",
       "      <td>3.33</td>\n",
       "      <td>3</td>\n",
       "      <td>3</td>\n",
       "      <td>0</td>\n",
       "      <td>alfa</td>\n",
       "      <td>Alfa Romeo</td>\n",
       "      <td>Swiss</td>\n",
       "      <td>http://en.wikipedia.org/wiki/Alfa_Romeo_in_For...</td>\n",
       "      <td>Finished</td>\n",
       "      <td>922731975</td>\n",
       "    </tr>\n",
       "    <tr>\n",
       "      <th>1</th>\n",
       "      <td>20025</td>\n",
       "      <td>833</td>\n",
       "      <td>642</td>\n",
       "      <td>51</td>\n",
       "      <td>2</td>\n",
       "      <td>1</td>\n",
       "      <td>1</td>\n",
       "      <td>1</td>\n",
       "      <td>1</td>\n",
       "      <td>9.0</td>\n",
       "      <td>...</td>\n",
       "      <td>6.33</td>\n",
       "      <td>3</td>\n",
       "      <td>3</td>\n",
       "      <td>0</td>\n",
       "      <td>alfa</td>\n",
       "      <td>Alfa Romeo</td>\n",
       "      <td>Swiss</td>\n",
       "      <td>http://en.wikipedia.org/wiki/Alfa_Romeo_in_For...</td>\n",
       "      <td>Finished</td>\n",
       "      <td>923172525</td>\n",
       "    </tr>\n",
       "    <tr>\n",
       "      <th>2</th>\n",
       "      <td>20025</td>\n",
       "      <td>833</td>\n",
       "      <td>642</td>\n",
       "      <td>51</td>\n",
       "      <td>2</td>\n",
       "      <td>1</td>\n",
       "      <td>1</td>\n",
       "      <td>1</td>\n",
       "      <td>1</td>\n",
       "      <td>9.0</td>\n",
       "      <td>...</td>\n",
       "      <td>6.33</td>\n",
       "      <td>4</td>\n",
       "      <td>4</td>\n",
       "      <td>0</td>\n",
       "      <td>alfa</td>\n",
       "      <td>Alfa Romeo</td>\n",
       "      <td>Swiss</td>\n",
       "      <td>http://en.wikipedia.org/wiki/Alfa_Romeo_in_For...</td>\n",
       "      <td>Finished</td>\n",
       "      <td>923833350</td>\n",
       "    </tr>\n",
       "    <tr>\n",
       "      <th>3</th>\n",
       "      <td>20025</td>\n",
       "      <td>833</td>\n",
       "      <td>642</td>\n",
       "      <td>51</td>\n",
       "      <td>2</td>\n",
       "      <td>1</td>\n",
       "      <td>1</td>\n",
       "      <td>1</td>\n",
       "      <td>1</td>\n",
       "      <td>9.0</td>\n",
       "      <td>...</td>\n",
       "      <td>10.33</td>\n",
       "      <td>3</td>\n",
       "      <td>3</td>\n",
       "      <td>0</td>\n",
       "      <td>alfa</td>\n",
       "      <td>Alfa Romeo</td>\n",
       "      <td>Swiss</td>\n",
       "      <td>http://en.wikipedia.org/wiki/Alfa_Romeo_in_For...</td>\n",
       "      <td>Finished</td>\n",
       "      <td>925195050</td>\n",
       "    </tr>\n",
       "    <tr>\n",
       "      <th>4</th>\n",
       "      <td>20025</td>\n",
       "      <td>833</td>\n",
       "      <td>642</td>\n",
       "      <td>51</td>\n",
       "      <td>2</td>\n",
       "      <td>1</td>\n",
       "      <td>1</td>\n",
       "      <td>1</td>\n",
       "      <td>1</td>\n",
       "      <td>9.0</td>\n",
       "      <td>...</td>\n",
       "      <td>10.33</td>\n",
       "      <td>4</td>\n",
       "      <td>4</td>\n",
       "      <td>0</td>\n",
       "      <td>alfa</td>\n",
       "      <td>Alfa Romeo</td>\n",
       "      <td>Swiss</td>\n",
       "      <td>http://en.wikipedia.org/wiki/Alfa_Romeo_in_For...</td>\n",
       "      <td>Finished</td>\n",
       "      <td>926576775</td>\n",
       "    </tr>\n",
       "  </tbody>\n",
       "</table>\n",
       "<p>5 rows × 55 columns</p>\n",
       "</div>"
      ],
      "text/plain": [
       "   resultId  racerId  driverId  constructorId number  grid position_x  \\\n",
       "0     20025      833       642             51      2     1          1   \n",
       "1     20025      833       642             51      2     1          1   \n",
       "2     20025      833       642             51      2     1          1   \n",
       "3     20025      833       642             51      2     1          1   \n",
       "4     20025      833       642             51      2     1          1   \n",
       "\n",
       "  positionText_x  positionOrder  points  ...  points_y position  \\\n",
       "0              1              1     9.0  ...      3.33        3   \n",
       "1              1              1     9.0  ...      6.33        3   \n",
       "2              1              1     9.0  ...      6.33        4   \n",
       "3              1              1     9.0  ...     10.33        3   \n",
       "4              1              1     9.0  ...     10.33        4   \n",
       "\n",
       "  positionText_y wins constructorRef     company nationality_y  \\\n",
       "0              3    0           alfa  Alfa Romeo         Swiss   \n",
       "1              3    0           alfa  Alfa Romeo         Swiss   \n",
       "2              4    0           alfa  Alfa Romeo         Swiss   \n",
       "3              3    0           alfa  Alfa Romeo         Swiss   \n",
       "4              4    0           alfa  Alfa Romeo         Swiss   \n",
       "\n",
       "                                                 url    status  \\\n",
       "0  http://en.wikipedia.org/wiki/Alfa_Romeo_in_For...  Finished   \n",
       "1  http://en.wikipedia.org/wiki/Alfa_Romeo_in_For...  Finished   \n",
       "2  http://en.wikipedia.org/wiki/Alfa_Romeo_in_For...  Finished   \n",
       "3  http://en.wikipedia.org/wiki/Alfa_Romeo_in_For...  Finished   \n",
       "4  http://en.wikipedia.org/wiki/Alfa_Romeo_in_For...  Finished   \n",
       "\n",
       "   result_driver_standing  \n",
       "0               922731975  \n",
       "1               923172525  \n",
       "2               923833350  \n",
       "3               925195050  \n",
       "4               926576775  \n",
       "\n",
       "[5 rows x 55 columns]"
      ]
     },
     "execution_count": 3,
     "metadata": {},
     "output_type": "execute_result"
    }
   ],
   "source": [
    "train1_df.head()"
   ]
  },
  {
   "cell_type": "code",
   "execution_count": 4,
   "id": "ac5269ca",
   "metadata": {
    "execution": {
     "iopub.execute_input": "2024-06-29T05:38:05.555082Z",
     "iopub.status.busy": "2024-06-29T05:38:05.554708Z",
     "iopub.status.idle": "2024-06-29T05:38:05.577310Z",
     "shell.execute_reply": "2024-06-29T05:38:05.576147Z"
    },
    "papermill": {
     "duration": 0.034003,
     "end_time": "2024-06-29T05:38:05.579635",
     "exception": false,
     "start_time": "2024-06-29T05:38:05.545632",
     "status": "completed"
    },
    "tags": []
   },
   "outputs": [
    {
     "data": {
      "text/html": [
       "<div>\n",
       "<style scoped>\n",
       "    .dataframe tbody tr th:only-of-type {\n",
       "        vertical-align: middle;\n",
       "    }\n",
       "\n",
       "    .dataframe tbody tr th {\n",
       "        vertical-align: top;\n",
       "    }\n",
       "\n",
       "    .dataframe thead th {\n",
       "        text-align: right;\n",
       "    }\n",
       "</style>\n",
       "<table border=\"1\" class=\"dataframe\">\n",
       "  <thead>\n",
       "    <tr style=\"text-align: right;\">\n",
       "      <th></th>\n",
       "      <th>resultId</th>\n",
       "      <th>racerId</th>\n",
       "      <th>driverId</th>\n",
       "      <th>constructorId</th>\n",
       "      <th>number</th>\n",
       "      <th>grid</th>\n",
       "      <th>position_x</th>\n",
       "      <th>positionText_x</th>\n",
       "      <th>positionOrder</th>\n",
       "      <th>points</th>\n",
       "      <th>...</th>\n",
       "      <th>points_y</th>\n",
       "      <th>position</th>\n",
       "      <th>positionText_y</th>\n",
       "      <th>wins</th>\n",
       "      <th>constructorRef</th>\n",
       "      <th>company</th>\n",
       "      <th>nationality_y</th>\n",
       "      <th>url</th>\n",
       "      <th>status</th>\n",
       "      <th>result_driver_standing</th>\n",
       "    </tr>\n",
       "  </thead>\n",
       "  <tbody>\n",
       "    <tr>\n",
       "      <th>0</th>\n",
       "      <td>22109</td>\n",
       "      <td>899</td>\n",
       "      <td>17</td>\n",
       "      <td>9</td>\n",
       "      <td>2</td>\n",
       "      <td>4</td>\n",
       "      <td>2</td>\n",
       "      <td>2</td>\n",
       "      <td>2</td>\n",
       "      <td>18.0</td>\n",
       "      <td>...</td>\n",
       "      <td>28.0</td>\n",
       "      <td>8</td>\n",
       "      <td>8</td>\n",
       "      <td>0</td>\n",
       "      <td>red_bull</td>\n",
       "      <td>Red Bull</td>\n",
       "      <td>Austrian</td>\n",
       "      <td>http://en.wikipedia.org/wiki/Red_Bull_Racing</td>\n",
       "      <td>Finished</td>\n",
       "      <td>1410907944</td>\n",
       "    </tr>\n",
       "    <tr>\n",
       "      <th>1</th>\n",
       "      <td>22109</td>\n",
       "      <td>899</td>\n",
       "      <td>17</td>\n",
       "      <td>9</td>\n",
       "      <td>2</td>\n",
       "      <td>4</td>\n",
       "      <td>2</td>\n",
       "      <td>2</td>\n",
       "      <td>2</td>\n",
       "      <td>18.0</td>\n",
       "      <td>...</td>\n",
       "      <td>53.0</td>\n",
       "      <td>4</td>\n",
       "      <td>4</td>\n",
       "      <td>1</td>\n",
       "      <td>red_bull</td>\n",
       "      <td>Red Bull</td>\n",
       "      <td>Austrian</td>\n",
       "      <td>http://en.wikipedia.org/wiki/Red_Bull_Racing</td>\n",
       "      <td>Finished</td>\n",
       "      <td>1411438560</td>\n",
       "    </tr>\n",
       "    <tr>\n",
       "      <th>2</th>\n",
       "      <td>22109</td>\n",
       "      <td>899</td>\n",
       "      <td>17</td>\n",
       "      <td>9</td>\n",
       "      <td>2</td>\n",
       "      <td>4</td>\n",
       "      <td>2</td>\n",
       "      <td>2</td>\n",
       "      <td>2</td>\n",
       "      <td>18.0</td>\n",
       "      <td>...</td>\n",
       "      <td>78.0</td>\n",
       "      <td>1</td>\n",
       "      <td>1</td>\n",
       "      <td>2</td>\n",
       "      <td>red_bull</td>\n",
       "      <td>Red Bull</td>\n",
       "      <td>Austrian</td>\n",
       "      <td>http://en.wikipedia.org/wiki/Red_Bull_Racing</td>\n",
       "      <td>Finished</td>\n",
       "      <td>1412499792</td>\n",
       "    </tr>\n",
       "    <tr>\n",
       "      <th>3</th>\n",
       "      <td>22109</td>\n",
       "      <td>899</td>\n",
       "      <td>17</td>\n",
       "      <td>9</td>\n",
       "      <td>2</td>\n",
       "      <td>4</td>\n",
       "      <td>2</td>\n",
       "      <td>2</td>\n",
       "      <td>2</td>\n",
       "      <td>18.0</td>\n",
       "      <td>...</td>\n",
       "      <td>93.0</td>\n",
       "      <td>1</td>\n",
       "      <td>1</td>\n",
       "      <td>2</td>\n",
       "      <td>red_bull</td>\n",
       "      <td>Red Bull</td>\n",
       "      <td>Austrian</td>\n",
       "      <td>http://en.wikipedia.org/wiki/Red_Bull_Racing</td>\n",
       "      <td>Finished</td>\n",
       "      <td>1413030408</td>\n",
       "    </tr>\n",
       "    <tr>\n",
       "      <th>4</th>\n",
       "      <td>22109</td>\n",
       "      <td>899</td>\n",
       "      <td>17</td>\n",
       "      <td>9</td>\n",
       "      <td>2</td>\n",
       "      <td>4</td>\n",
       "      <td>2</td>\n",
       "      <td>2</td>\n",
       "      <td>2</td>\n",
       "      <td>18.0</td>\n",
       "      <td>...</td>\n",
       "      <td>103.0</td>\n",
       "      <td>3</td>\n",
       "      <td>3</td>\n",
       "      <td>2</td>\n",
       "      <td>red_bull</td>\n",
       "      <td>Red Bull</td>\n",
       "      <td>Austrian</td>\n",
       "      <td>http://en.wikipedia.org/wiki/Red_Bull_Racing</td>\n",
       "      <td>Finished</td>\n",
       "      <td>1413561024</td>\n",
       "    </tr>\n",
       "  </tbody>\n",
       "</table>\n",
       "<p>5 rows × 55 columns</p>\n",
       "</div>"
      ],
      "text/plain": [
       "   resultId  racerId  driverId  constructorId  number  grid position_x  \\\n",
       "0     22109      899        17              9       2     4          2   \n",
       "1     22109      899        17              9       2     4          2   \n",
       "2     22109      899        17              9       2     4          2   \n",
       "3     22109      899        17              9       2     4          2   \n",
       "4     22109      899        17              9       2     4          2   \n",
       "\n",
       "  positionText_x  positionOrder  points  ...  points_y position  \\\n",
       "0              2              2    18.0  ...      28.0        8   \n",
       "1              2              2    18.0  ...      53.0        4   \n",
       "2              2              2    18.0  ...      78.0        1   \n",
       "3              2              2    18.0  ...      93.0        1   \n",
       "4              2              2    18.0  ...     103.0        3   \n",
       "\n",
       "  positionText_y wins  constructorRef   company nationality_y  \\\n",
       "0              8    0        red_bull  Red Bull      Austrian   \n",
       "1              4    1        red_bull  Red Bull      Austrian   \n",
       "2              1    2        red_bull  Red Bull      Austrian   \n",
       "3              1    2        red_bull  Red Bull      Austrian   \n",
       "4              3    2        red_bull  Red Bull      Austrian   \n",
       "\n",
       "                                            url    status  \\\n",
       "0  http://en.wikipedia.org/wiki/Red_Bull_Racing  Finished   \n",
       "1  http://en.wikipedia.org/wiki/Red_Bull_Racing  Finished   \n",
       "2  http://en.wikipedia.org/wiki/Red_Bull_Racing  Finished   \n",
       "3  http://en.wikipedia.org/wiki/Red_Bull_Racing  Finished   \n",
       "4  http://en.wikipedia.org/wiki/Red_Bull_Racing  Finished   \n",
       "\n",
       "   result_driver_standing  \n",
       "0              1410907944  \n",
       "1              1411438560  \n",
       "2              1412499792  \n",
       "3              1413030408  \n",
       "4              1413561024  \n",
       "\n",
       "[5 rows x 55 columns]"
      ]
     },
     "execution_count": 4,
     "metadata": {},
     "output_type": "execute_result"
    }
   ],
   "source": [
    "validation_df.head()"
   ]
  },
  {
   "cell_type": "code",
   "execution_count": 5,
   "id": "6ed6f18a",
   "metadata": {
    "execution": {
     "iopub.execute_input": "2024-06-29T05:38:05.598276Z",
     "iopub.status.busy": "2024-06-29T05:38:05.597515Z",
     "iopub.status.idle": "2024-06-29T05:38:05.619964Z",
     "shell.execute_reply": "2024-06-29T05:38:05.618818Z"
    },
    "papermill": {
     "duration": 0.03457,
     "end_time": "2024-06-29T05:38:05.622268",
     "exception": false,
     "start_time": "2024-06-29T05:38:05.587698",
     "status": "completed"
    },
    "tags": []
   },
   "outputs": [
    {
     "data": {
      "text/html": [
       "<div>\n",
       "<style scoped>\n",
       "    .dataframe tbody tr th:only-of-type {\n",
       "        vertical-align: middle;\n",
       "    }\n",
       "\n",
       "    .dataframe tbody tr th {\n",
       "        vertical-align: top;\n",
       "    }\n",
       "\n",
       "    .dataframe thead th {\n",
       "        text-align: right;\n",
       "    }\n",
       "</style>\n",
       "<table border=\"1\" class=\"dataframe\">\n",
       "  <thead>\n",
       "    <tr style=\"text-align: right;\">\n",
       "      <th></th>\n",
       "      <th>resultId</th>\n",
       "      <th>racerId</th>\n",
       "      <th>driverId</th>\n",
       "      <th>constructorId</th>\n",
       "      <th>number</th>\n",
       "      <th>grid</th>\n",
       "      <th>position_x</th>\n",
       "      <th>positionText_x</th>\n",
       "      <th>positionOrder</th>\n",
       "      <th>points</th>\n",
       "      <th>...</th>\n",
       "      <th>driverStandingsId</th>\n",
       "      <th>raceId_y</th>\n",
       "      <th>points_y</th>\n",
       "      <th>wins</th>\n",
       "      <th>constructorRef</th>\n",
       "      <th>company</th>\n",
       "      <th>nationality_y</th>\n",
       "      <th>url</th>\n",
       "      <th>status</th>\n",
       "      <th>result_driver_standing</th>\n",
       "    </tr>\n",
       "  </thead>\n",
       "  <tbody>\n",
       "    <tr>\n",
       "      <th>0</th>\n",
       "      <td>23949</td>\n",
       "      <td>997</td>\n",
       "      <td>4</td>\n",
       "      <td>1</td>\n",
       "      <td>14</td>\n",
       "      <td>13</td>\n",
       "      <td>8</td>\n",
       "      <td>8</td>\n",
       "      <td>8</td>\n",
       "      <td>4.0</td>\n",
       "      <td>...</td>\n",
       "      <td>12474</td>\n",
       "      <td>93</td>\n",
       "      <td>16.0</td>\n",
       "      <td>0</td>\n",
       "      <td>mclaren</td>\n",
       "      <td>McLaren</td>\n",
       "      <td>British</td>\n",
       "      <td>http://en.wikipedia.org/wiki/McLaren</td>\n",
       "      <td>+1 Lap</td>\n",
       "      <td>298739826</td>\n",
       "    </tr>\n",
       "    <tr>\n",
       "      <th>1</th>\n",
       "      <td>23949</td>\n",
       "      <td>997</td>\n",
       "      <td>4</td>\n",
       "      <td>1</td>\n",
       "      <td>14</td>\n",
       "      <td>13</td>\n",
       "      <td>8</td>\n",
       "      <td>8</td>\n",
       "      <td>8</td>\n",
       "      <td>4.0</td>\n",
       "      <td>...</td>\n",
       "      <td>12494</td>\n",
       "      <td>94</td>\n",
       "      <td>21.0</td>\n",
       "      <td>0</td>\n",
       "      <td>mclaren</td>\n",
       "      <td>McLaren</td>\n",
       "      <td>British</td>\n",
       "      <td>http://en.wikipedia.org/wiki/McLaren</td>\n",
       "      <td>+1 Lap</td>\n",
       "      <td>299218806</td>\n",
       "    </tr>\n",
       "    <tr>\n",
       "      <th>2</th>\n",
       "      <td>23949</td>\n",
       "      <td>997</td>\n",
       "      <td>4</td>\n",
       "      <td>1</td>\n",
       "      <td>14</td>\n",
       "      <td>13</td>\n",
       "      <td>8</td>\n",
       "      <td>8</td>\n",
       "      <td>8</td>\n",
       "      <td>4.0</td>\n",
       "      <td>...</td>\n",
       "      <td>12514</td>\n",
       "      <td>95</td>\n",
       "      <td>21.0</td>\n",
       "      <td>0</td>\n",
       "      <td>mclaren</td>\n",
       "      <td>McLaren</td>\n",
       "      <td>British</td>\n",
       "      <td>http://en.wikipedia.org/wiki/McLaren</td>\n",
       "      <td>+1 Lap</td>\n",
       "      <td>299697786</td>\n",
       "    </tr>\n",
       "    <tr>\n",
       "      <th>3</th>\n",
       "      <td>23949</td>\n",
       "      <td>997</td>\n",
       "      <td>4</td>\n",
       "      <td>1</td>\n",
       "      <td>14</td>\n",
       "      <td>13</td>\n",
       "      <td>8</td>\n",
       "      <td>8</td>\n",
       "      <td>8</td>\n",
       "      <td>4.0</td>\n",
       "      <td>...</td>\n",
       "      <td>12534</td>\n",
       "      <td>96</td>\n",
       "      <td>25.0</td>\n",
       "      <td>0</td>\n",
       "      <td>mclaren</td>\n",
       "      <td>McLaren</td>\n",
       "      <td>British</td>\n",
       "      <td>http://en.wikipedia.org/wiki/McLaren</td>\n",
       "      <td>+1 Lap</td>\n",
       "      <td>300176766</td>\n",
       "    </tr>\n",
       "    <tr>\n",
       "      <th>4</th>\n",
       "      <td>23949</td>\n",
       "      <td>997</td>\n",
       "      <td>4</td>\n",
       "      <td>1</td>\n",
       "      <td>14</td>\n",
       "      <td>13</td>\n",
       "      <td>8</td>\n",
       "      <td>8</td>\n",
       "      <td>8</td>\n",
       "      <td>4.0</td>\n",
       "      <td>...</td>\n",
       "      <td>12554</td>\n",
       "      <td>97</td>\n",
       "      <td>25.0</td>\n",
       "      <td>0</td>\n",
       "      <td>mclaren</td>\n",
       "      <td>McLaren</td>\n",
       "      <td>British</td>\n",
       "      <td>http://en.wikipedia.org/wiki/McLaren</td>\n",
       "      <td>+1 Lap</td>\n",
       "      <td>300655746</td>\n",
       "    </tr>\n",
       "  </tbody>\n",
       "</table>\n",
       "<p>5 rows × 53 columns</p>\n",
       "</div>"
      ],
      "text/plain": [
       "   resultId  racerId  driverId  constructorId  number  grid position_x  \\\n",
       "0     23949      997         4              1      14    13          8   \n",
       "1     23949      997         4              1      14    13          8   \n",
       "2     23949      997         4              1      14    13          8   \n",
       "3     23949      997         4              1      14    13          8   \n",
       "4     23949      997         4              1      14    13          8   \n",
       "\n",
       "  positionText_x  positionOrder  points  ...  driverStandingsId raceId_y  \\\n",
       "0              8              8     4.0  ...              12474       93   \n",
       "1              8              8     4.0  ...              12494       94   \n",
       "2              8              8     4.0  ...              12514       95   \n",
       "3              8              8     4.0  ...              12534       96   \n",
       "4              8              8     4.0  ...              12554       97   \n",
       "\n",
       "  points_y wins  constructorRef  company nationality_y  \\\n",
       "0     16.0    0         mclaren  McLaren       British   \n",
       "1     21.0    0         mclaren  McLaren       British   \n",
       "2     21.0    0         mclaren  McLaren       British   \n",
       "3     25.0    0         mclaren  McLaren       British   \n",
       "4     25.0    0         mclaren  McLaren       British   \n",
       "\n",
       "                                    url  status  result_driver_standing  \n",
       "0  http://en.wikipedia.org/wiki/McLaren  +1 Lap               298739826  \n",
       "1  http://en.wikipedia.org/wiki/McLaren  +1 Lap               299218806  \n",
       "2  http://en.wikipedia.org/wiki/McLaren  +1 Lap               299697786  \n",
       "3  http://en.wikipedia.org/wiki/McLaren  +1 Lap               300176766  \n",
       "4  http://en.wikipedia.org/wiki/McLaren  +1 Lap               300655746  \n",
       "\n",
       "[5 rows x 53 columns]"
      ]
     },
     "execution_count": 5,
     "metadata": {},
     "output_type": "execute_result"
    }
   ],
   "source": [
    "test_df.head()"
   ]
  },
  {
   "cell_type": "code",
   "execution_count": 6,
   "id": "dc012c73",
   "metadata": {
    "execution": {
     "iopub.execute_input": "2024-06-29T05:38:05.640957Z",
     "iopub.status.busy": "2024-06-29T05:38:05.640572Z",
     "iopub.status.idle": "2024-06-29T05:38:07.106063Z",
     "shell.execute_reply": "2024-06-29T05:38:07.104409Z"
    },
    "papermill": {
     "duration": 1.479822,
     "end_time": "2024-06-29T05:38:07.110475",
     "exception": false,
     "start_time": "2024-06-29T05:38:05.630653",
     "status": "completed"
    },
    "tags": []
   },
   "outputs": [],
   "source": [
    "train_df = pd.concat([train1_df, validation_df], ignore_index=True)"
   ]
  },
  {
   "cell_type": "code",
   "execution_count": 7,
   "id": "19180124",
   "metadata": {
    "execution": {
     "iopub.execute_input": "2024-06-29T05:38:07.130453Z",
     "iopub.status.busy": "2024-06-29T05:38:07.130019Z",
     "iopub.status.idle": "2024-06-29T05:38:07.159291Z",
     "shell.execute_reply": "2024-06-29T05:38:07.157651Z"
    },
    "papermill": {
     "duration": 0.042758,
     "end_time": "2024-06-29T05:38:07.161828",
     "exception": false,
     "start_time": "2024-06-29T05:38:07.119070",
     "status": "completed"
    },
    "tags": []
   },
   "outputs": [
    {
     "data": {
      "text/html": [
       "<div>\n",
       "<style scoped>\n",
       "    .dataframe tbody tr th:only-of-type {\n",
       "        vertical-align: middle;\n",
       "    }\n",
       "\n",
       "    .dataframe tbody tr th {\n",
       "        vertical-align: top;\n",
       "    }\n",
       "\n",
       "    .dataframe thead th {\n",
       "        text-align: right;\n",
       "    }\n",
       "</style>\n",
       "<table border=\"1\" class=\"dataframe\">\n",
       "  <thead>\n",
       "    <tr style=\"text-align: right;\">\n",
       "      <th></th>\n",
       "      <th>resultId</th>\n",
       "      <th>racerId</th>\n",
       "      <th>driverId</th>\n",
       "      <th>constructorId</th>\n",
       "      <th>number</th>\n",
       "      <th>grid</th>\n",
       "      <th>position_x</th>\n",
       "      <th>positionText_x</th>\n",
       "      <th>positionOrder</th>\n",
       "      <th>points</th>\n",
       "      <th>...</th>\n",
       "      <th>points_y</th>\n",
       "      <th>position</th>\n",
       "      <th>positionText_y</th>\n",
       "      <th>wins</th>\n",
       "      <th>constructorRef</th>\n",
       "      <th>company</th>\n",
       "      <th>nationality_y</th>\n",
       "      <th>url</th>\n",
       "      <th>status</th>\n",
       "      <th>result_driver_standing</th>\n",
       "    </tr>\n",
       "  </thead>\n",
       "  <tbody>\n",
       "    <tr>\n",
       "      <th>0</th>\n",
       "      <td>20025</td>\n",
       "      <td>833</td>\n",
       "      <td>642</td>\n",
       "      <td>51</td>\n",
       "      <td>2</td>\n",
       "      <td>1</td>\n",
       "      <td>1</td>\n",
       "      <td>1</td>\n",
       "      <td>1</td>\n",
       "      <td>9.0</td>\n",
       "      <td>...</td>\n",
       "      <td>3.33</td>\n",
       "      <td>3</td>\n",
       "      <td>3</td>\n",
       "      <td>0</td>\n",
       "      <td>alfa</td>\n",
       "      <td>Alfa Romeo</td>\n",
       "      <td>Swiss</td>\n",
       "      <td>http://en.wikipedia.org/wiki/Alfa_Romeo_in_For...</td>\n",
       "      <td>Finished</td>\n",
       "      <td>922731975</td>\n",
       "    </tr>\n",
       "    <tr>\n",
       "      <th>1</th>\n",
       "      <td>20025</td>\n",
       "      <td>833</td>\n",
       "      <td>642</td>\n",
       "      <td>51</td>\n",
       "      <td>2</td>\n",
       "      <td>1</td>\n",
       "      <td>1</td>\n",
       "      <td>1</td>\n",
       "      <td>1</td>\n",
       "      <td>9.0</td>\n",
       "      <td>...</td>\n",
       "      <td>6.33</td>\n",
       "      <td>3</td>\n",
       "      <td>3</td>\n",
       "      <td>0</td>\n",
       "      <td>alfa</td>\n",
       "      <td>Alfa Romeo</td>\n",
       "      <td>Swiss</td>\n",
       "      <td>http://en.wikipedia.org/wiki/Alfa_Romeo_in_For...</td>\n",
       "      <td>Finished</td>\n",
       "      <td>923172525</td>\n",
       "    </tr>\n",
       "    <tr>\n",
       "      <th>2</th>\n",
       "      <td>20025</td>\n",
       "      <td>833</td>\n",
       "      <td>642</td>\n",
       "      <td>51</td>\n",
       "      <td>2</td>\n",
       "      <td>1</td>\n",
       "      <td>1</td>\n",
       "      <td>1</td>\n",
       "      <td>1</td>\n",
       "      <td>9.0</td>\n",
       "      <td>...</td>\n",
       "      <td>6.33</td>\n",
       "      <td>4</td>\n",
       "      <td>4</td>\n",
       "      <td>0</td>\n",
       "      <td>alfa</td>\n",
       "      <td>Alfa Romeo</td>\n",
       "      <td>Swiss</td>\n",
       "      <td>http://en.wikipedia.org/wiki/Alfa_Romeo_in_For...</td>\n",
       "      <td>Finished</td>\n",
       "      <td>923833350</td>\n",
       "    </tr>\n",
       "    <tr>\n",
       "      <th>3</th>\n",
       "      <td>20025</td>\n",
       "      <td>833</td>\n",
       "      <td>642</td>\n",
       "      <td>51</td>\n",
       "      <td>2</td>\n",
       "      <td>1</td>\n",
       "      <td>1</td>\n",
       "      <td>1</td>\n",
       "      <td>1</td>\n",
       "      <td>9.0</td>\n",
       "      <td>...</td>\n",
       "      <td>10.33</td>\n",
       "      <td>3</td>\n",
       "      <td>3</td>\n",
       "      <td>0</td>\n",
       "      <td>alfa</td>\n",
       "      <td>Alfa Romeo</td>\n",
       "      <td>Swiss</td>\n",
       "      <td>http://en.wikipedia.org/wiki/Alfa_Romeo_in_For...</td>\n",
       "      <td>Finished</td>\n",
       "      <td>925195050</td>\n",
       "    </tr>\n",
       "    <tr>\n",
       "      <th>4</th>\n",
       "      <td>20025</td>\n",
       "      <td>833</td>\n",
       "      <td>642</td>\n",
       "      <td>51</td>\n",
       "      <td>2</td>\n",
       "      <td>1</td>\n",
       "      <td>1</td>\n",
       "      <td>1</td>\n",
       "      <td>1</td>\n",
       "      <td>9.0</td>\n",
       "      <td>...</td>\n",
       "      <td>10.33</td>\n",
       "      <td>4</td>\n",
       "      <td>4</td>\n",
       "      <td>0</td>\n",
       "      <td>alfa</td>\n",
       "      <td>Alfa Romeo</td>\n",
       "      <td>Swiss</td>\n",
       "      <td>http://en.wikipedia.org/wiki/Alfa_Romeo_in_For...</td>\n",
       "      <td>Finished</td>\n",
       "      <td>926576775</td>\n",
       "    </tr>\n",
       "  </tbody>\n",
       "</table>\n",
       "<p>5 rows × 55 columns</p>\n",
       "</div>"
      ],
      "text/plain": [
       "   resultId  racerId  driverId  constructorId number  grid position_x  \\\n",
       "0     20025      833       642             51      2     1          1   \n",
       "1     20025      833       642             51      2     1          1   \n",
       "2     20025      833       642             51      2     1          1   \n",
       "3     20025      833       642             51      2     1          1   \n",
       "4     20025      833       642             51      2     1          1   \n",
       "\n",
       "  positionText_x  positionOrder  points  ...  points_y position  \\\n",
       "0              1              1     9.0  ...      3.33        3   \n",
       "1              1              1     9.0  ...      6.33        3   \n",
       "2              1              1     9.0  ...      6.33        4   \n",
       "3              1              1     9.0  ...     10.33        3   \n",
       "4              1              1     9.0  ...     10.33        4   \n",
       "\n",
       "  positionText_y wins constructorRef     company nationality_y  \\\n",
       "0              3    0           alfa  Alfa Romeo         Swiss   \n",
       "1              3    0           alfa  Alfa Romeo         Swiss   \n",
       "2              4    0           alfa  Alfa Romeo         Swiss   \n",
       "3              3    0           alfa  Alfa Romeo         Swiss   \n",
       "4              4    0           alfa  Alfa Romeo         Swiss   \n",
       "\n",
       "                                                 url    status  \\\n",
       "0  http://en.wikipedia.org/wiki/Alfa_Romeo_in_For...  Finished   \n",
       "1  http://en.wikipedia.org/wiki/Alfa_Romeo_in_For...  Finished   \n",
       "2  http://en.wikipedia.org/wiki/Alfa_Romeo_in_For...  Finished   \n",
       "3  http://en.wikipedia.org/wiki/Alfa_Romeo_in_For...  Finished   \n",
       "4  http://en.wikipedia.org/wiki/Alfa_Romeo_in_For...  Finished   \n",
       "\n",
       "   result_driver_standing  \n",
       "0               922731975  \n",
       "1               923172525  \n",
       "2               923833350  \n",
       "3               925195050  \n",
       "4               926576775  \n",
       "\n",
       "[5 rows x 55 columns]"
      ]
     },
     "execution_count": 7,
     "metadata": {},
     "output_type": "execute_result"
    }
   ],
   "source": [
    "train_df.head()"
   ]
  },
  {
   "cell_type": "markdown",
   "id": "9cf29350",
   "metadata": {
    "papermill": {
     "duration": 0.01008,
     "end_time": "2024-06-29T05:38:07.181128",
     "exception": false,
     "start_time": "2024-06-29T05:38:07.171048",
     "status": "completed"
    },
    "tags": []
   },
   "source": [
    "**EDA**"
   ]
  },
  {
   "cell_type": "code",
   "execution_count": 8,
   "id": "506d37f3",
   "metadata": {
    "execution": {
     "iopub.execute_input": "2024-06-29T05:38:07.204763Z",
     "iopub.status.busy": "2024-06-29T05:38:07.204354Z",
     "iopub.status.idle": "2024-06-29T05:38:07.928411Z",
     "shell.execute_reply": "2024-06-29T05:38:07.927299Z"
    },
    "papermill": {
     "duration": 0.740179,
     "end_time": "2024-06-29T05:38:07.930961",
     "exception": false,
     "start_time": "2024-06-29T05:38:07.190782",
     "status": "completed"
    },
    "tags": []
   },
   "outputs": [
    {
     "data": {
      "image/png": "[encoded data removed]",
      "text/plain": [
       "<Figure size 1000x600 with 1 Axes>"
      ]
     },
     "metadata": {},
     "output_type": "display_data"
    }
   ],
   "source": [
    "import pandas as pd\n",
    "import matplotlib.pyplot as plt\n",
    "\n",
    "\n",
    "# Group by driverId and sum the points for each driver\n",
    "points_sum = train_df.groupby('driverId')['points'].sum()\n",
    "\n",
    "# Get the top 5 drivers with the most points\n",
    "top_5_points = points_sum.nlargest(5)\n",
    "\n",
    "# Create a DataFrame for the top 5 drivers\n",
    "top_5_df = pd.DataFrame({\n",
    "    'driverId': top_5_points.index,\n",
    "    'total_points': top_5_points.values\n",
    "})\n",
    "\n",
    "# Get driver names\n",
    "driver_names = []\n",
    "for driver_id in top_5_df['driverId']:\n",
    "    driver_details = train_df[train_df['driverId'] == driver_id].iloc[0]\n",
    "    driver_name = f\"{driver_details['forename']} {driver_details['surname']}\"\n",
    "    driver_names.append(driver_name)\n",
    "\n",
    "top_5_df['driver_name'] = driver_names\n",
    "\n",
    "# Plotting\n",
    "fig, ax = plt.subplots(figsize=(10, 6))\n",
    "ax.barh(top_5_df['driver_name'], top_5_df['total_points'], color='skyblue')\n",
    "\n",
    "# Add labels, title, and legend\n",
    "ax.set_xlabel('Total Points')\n",
    "ax.set_ylabel('Driver Name')\n",
    "ax.set_title('Top 5 Drivers with Most Points in F1 History')\n",
    "ax.invert_yaxis()  # Invert y-axis to show the driver with the most points at the top\n",
    "\n",
    "# Show plot\n",
    "plt.tight_layout()\n",
    "plt.show()"
   ]
  },
  {
   "cell_type": "code",
   "execution_count": 9,
   "id": "4b5afff3",
   "metadata": {
    "execution": {
     "iopub.execute_input": "2024-06-29T05:38:07.951859Z",
     "iopub.status.busy": "2024-06-29T05:38:07.951162Z",
     "iopub.status.idle": "2024-06-29T05:38:09.013345Z",
     "shell.execute_reply": "2024-06-29T05:38:09.012061Z"
    },
    "papermill": {
     "duration": 1.075603,
     "end_time": "2024-06-29T05:38:09.015770",
     "exception": false,
     "start_time": "2024-06-29T05:38:07.940167",
     "status": "completed"
    },
    "tags": []
   },
   "outputs": [
    {
     "data": {
      "image/png": "[encoded data removed]",
      "text/plain": [
       "<Figure size 1000x600 with 1 Axes>"
      ]
     },
     "metadata": {},
     "output_type": "display_data"
    }
   ],
   "source": [
    "# Filter the dataset to only include rows where a driver has won a race\n",
    "wins_df = train_df[train_df['wins'] > 0]\n",
    "\n",
    "# Group by driverId and count the wins for each driver\n",
    "wins_count = wins_df.groupby('driverId')['wins'].sum()\n",
    "\n",
    "# Get the top 5 drivers with the most wins\n",
    "top_5_wins = wins_count.nlargest(5)\n",
    "\n",
    "# Create a DataFrame for the top 5 drivers\n",
    "top_5_df = pd.DataFrame({\n",
    "    'driverId': top_5_wins.index,\n",
    "    'total_wins': top_5_wins.values\n",
    "})\n",
    "\n",
    "# Get driver names\n",
    "driver_names = []\n",
    "for driver_id in top_5_df['driverId']:\n",
    "    driver_details = train_df[train_df['driverId'] == driver_id].iloc[0]\n",
    "    driver_name = f\"{driver_details['forename']} {driver_details['surname']}\"\n",
    "    driver_names.append(driver_name)\n",
    "\n",
    "top_5_df['driver_name'] = driver_names\n",
    "\n",
    "# Plotting\n",
    "fig, ax = plt.subplots(figsize=(10, 6))\n",
    "ax.barh(top_5_df['driver_name'], top_5_df['total_wins'], color='skyblue')\n",
    "\n",
    "# Add labels, title, and legend\n",
    "ax.set_xlabel('Total Wins')\n",
    "ax.set_ylabel('Driver Name')\n",
    "ax.set_title('Top 5 Drivers with Most Wins in F1 History')\n",
    "ax.invert_yaxis()  # Invert y-axis to show the driver with the most wins at the top\n",
    "\n",
    "# Show plot\n",
    "plt.tight_layout()\n",
    "plt.show()"
   ]
  },
  {
   "cell_type": "code",
   "execution_count": 10,
   "id": "7c7bf068",
   "metadata": {
    "execution": {
     "iopub.execute_input": "2024-06-29T05:38:09.036848Z",
     "iopub.status.busy": "2024-06-29T05:38:09.036420Z",
     "iopub.status.idle": "2024-06-29T05:38:10.804179Z",
     "shell.execute_reply": "2024-06-29T05:38:10.803058Z"
    },
    "papermill": {
     "duration": 1.781203,
     "end_time": "2024-06-29T05:38:10.806688",
     "exception": false,
     "start_time": "2024-06-29T05:38:09.025485",
     "status": "completed"
    },
    "tags": []
   },
   "outputs": [
    {
     "data": {
      "image/png": "[encoded data removed]",
      "text/plain": [
       "<Figure size 1000x600 with 1 Axes>"
      ]
     },
     "metadata": {},
     "output_type": "display_data"
    }
   ],
   "source": [
    "# Filter the dataset to only include rows where a team has won a race\n",
    "wins_df = train_df[train_df['wins'] > 0]\n",
    "\n",
    "# Group by constructorId and count the wins for each team\n",
    "wins_count = wins_df.groupby('constructorId')['wins'].sum()\n",
    "\n",
    "# Get the top 5 teams with the most wins\n",
    "top_5_wins = wins_count.nlargest(5)\n",
    "\n",
    "# Create a DataFrame for the top 5 teams\n",
    "top_5_df = pd.DataFrame({\n",
    "    'constructorId': top_5_wins.index,\n",
    "    'total_wins': top_5_wins.values\n",
    "})\n",
    "\n",
    "# Get team names\n",
    "team_names = []\n",
    "for constructor_id in top_5_df['constructorId']:\n",
    "    team_details = train_df[train_df['constructorId'] == constructor_id].iloc[0]\n",
    "    team_name = team_details['company']\n",
    "    team_names.append(team_name)\n",
    "\n",
    "top_5_df['team_name'] = team_names\n",
    "\n",
    "# Plotting\n",
    "fig, ax = plt.subplots(figsize=(10, 6))\n",
    "ax.barh(top_5_df['team_name'], top_5_df['total_wins'], color='skyblue')\n",
    "\n",
    "# Add labels, title, and legend\n",
    "ax.set_xlabel('Total Wins')\n",
    "ax.set_ylabel('Team Name')\n",
    "ax.set_title('Top 5 Teams with Most Wins in F1 History')\n",
    "ax.invert_yaxis()  # Invert y-axis to show the team with the most wins at the top\n",
    "\n",
    "# Show plot\n",
    "plt.tight_layout()\n",
    "plt.show()"
   ]
  },
  {
   "cell_type": "code",
   "execution_count": 11,
   "id": "b3396976",
   "metadata": {
    "execution": {
     "iopub.execute_input": "2024-06-29T05:38:10.828765Z",
     "iopub.status.busy": "2024-06-29T05:38:10.828360Z",
     "iopub.status.idle": "2024-06-29T05:38:12.072046Z",
     "shell.execute_reply": "2024-06-29T05:38:12.071040Z"
    },
    "papermill": {
     "duration": 1.257276,
     "end_time": "2024-06-29T05:38:12.074297",
     "exception": false,
     "start_time": "2024-06-29T05:38:10.817021",
     "status": "completed"
    },
    "tags": []
   },
   "outputs": [
    {
     "data": {
      "image/png": "[encoded data removed]",
      "text/plain": [
       "<Figure size 1000x600 with 1 Axes>"
      ]
     },
     "metadata": {},
     "output_type": "display_data"
    }
   ],
   "source": [
    "# Group by constructorId and sum the points for each team\n",
    "points_count = train_df.groupby('constructorId')['points'].sum()\n",
    "\n",
    "# Get the top 5 teams with the most points\n",
    "top_5_points = points_count.nlargest(5)\n",
    "\n",
    "# Create a DataFrame for the top 5 teams\n",
    "top_5_df = pd.DataFrame({\n",
    "    'constructorId': top_5_points.index,\n",
    "    'total_points': top_5_points.values\n",
    "})\n",
    "\n",
    "# Get team names\n",
    "team_names = []\n",
    "for constructor_id in top_5_df['constructorId']:\n",
    "    team_details = train_df[train_df['constructorId'] == constructor_id].iloc[0]\n",
    "    team_name = team_details['company']\n",
    "    team_names.append(team_name)\n",
    "\n",
    "top_5_df['team_name'] = team_names\n",
    "\n",
    "# Plotting\n",
    "fig, ax = plt.subplots(figsize=(10, 6))\n",
    "ax.barh(top_5_df['team_name'], top_5_df['total_points'], color='skyblue')\n",
    "\n",
    "# Add labels, title, and legend\n",
    "ax.set_xlabel('Total Points')\n",
    "ax.set_ylabel('Team Name')\n",
    "ax.set_title('Top 5 Teams with Most Points in F1 History')\n",
    "ax.invert_yaxis()  # Invert y-axis to show the team with the most points at the top\n",
    "\n",
    "# Show plot\n",
    "plt.tight_layout()\n",
    "plt.show()"
   ]
  },
  {
   "cell_type": "markdown",
   "id": "69f3cf18",
   "metadata": {
    "papermill": {
     "duration": 0.010495,
     "end_time": "2024-06-29T05:38:12.095361",
     "exception": false,
     "start_time": "2024-06-29T05:38:12.084866",
     "status": "completed"
    },
    "tags": []
   },
   "source": [
    "**Data Preprocessing**\n",
    "\n",
    "* Drop unnecessary features\n",
    "* Handling Missing values\n",
    "* Encoding categorical variables\n",
    "* Date Components Extraction"
   ]
  },
  {
   "cell_type": "code",
   "execution_count": 12,
   "id": "89d4f912",
   "metadata": {
    "execution": {
     "iopub.execute_input": "2024-06-29T05:38:12.118895Z",
     "iopub.status.busy": "2024-06-29T05:38:12.118495Z",
     "iopub.status.idle": "2024-06-29T05:38:28.538399Z",
     "shell.execute_reply": "2024-06-29T05:38:28.537292Z"
    },
    "papermill": {
     "duration": 16.43461,
     "end_time": "2024-06-29T05:38:28.541072",
     "exception": false,
     "start_time": "2024-06-29T05:38:12.106462",
     "status": "completed"
    },
    "tags": []
   },
   "outputs": [],
   "source": [
    "train_df.replace('\\\\N', pd.NA, inplace=True)"
   ]
  },
  {
   "cell_type": "code",
   "execution_count": 13,
   "id": "c0b8176c",
   "metadata": {
    "execution": {
     "iopub.execute_input": "2024-06-29T05:38:28.564702Z",
     "iopub.status.busy": "2024-06-29T05:38:28.563813Z",
     "iopub.status.idle": "2024-06-29T05:38:32.482654Z",
     "shell.execute_reply": "2024-06-29T05:38:32.481636Z"
    },
    "papermill": {
     "duration": 3.93306,
     "end_time": "2024-06-29T05:38:32.485025",
     "exception": false,
     "start_time": "2024-06-29T05:38:28.551965",
     "status": "completed"
    },
    "tags": []
   },
   "outputs": [
    {
     "data": {
      "text/plain": [
       "resultId                        0\n",
       "racerId                         0\n",
       "driverId                        0\n",
       "constructorId                   0\n",
       "number                        160\n",
       "grid                            0\n",
       "position_x                1187480\n",
       "positionText_x                  0\n",
       "positionOrder                   0\n",
       "points                          0\n",
       "laps                            0\n",
       "time_x                    2027052\n",
       "timetaken_in_millisec     2027107\n",
       "fastestLap                2128400\n",
       "rank                      2105375\n",
       "fastestLapTime            2128400\n",
       "max_speed                 2128400\n",
       "statusId                        0\n",
       "year                            0\n",
       "round                           0\n",
       "circuitId                       0\n",
       "grand_prix                      0\n",
       "date                            0\n",
       "time_y                    2150026\n",
       "url_x                           0\n",
       "fp1_date                  3183863\n",
       "fp1_time                  3183863\n",
       "fp2_date                  3183863\n",
       "fp2_time                  3183863\n",
       "fp3_date                  3183863\n",
       "fp3_time                  3183863\n",
       "quali_date                3183863\n",
       "quali_time                3183863\n",
       "sprint_date               3183863\n",
       "sprint_time               3183863\n",
       "driverRef                       0\n",
       "driver_num                2355301\n",
       "driver_code               1731200\n",
       "forename                        0\n",
       "surname                         0\n",
       "dob                             0\n",
       "nationality                     0\n",
       "url_y                           0\n",
       "driverStandingsId               0\n",
       "raceId_y                        0\n",
       "points_y                        0\n",
       "position                        0\n",
       "positionText_y                  0\n",
       "wins                            0\n",
       "constructorRef                  0\n",
       "company                         0\n",
       "nationality_y                   0\n",
       "url                             0\n",
       "status                          0\n",
       "result_driver_standing          0\n",
       "dtype: int64"
      ]
     },
     "execution_count": 13,
     "metadata": {},
     "output_type": "execute_result"
    }
   ],
   "source": [
    "train_df.isnull().sum()"
   ]
  },
  {
   "cell_type": "code",
   "execution_count": 14,
   "id": "ffbf0e34",
   "metadata": {
    "execution": {
     "iopub.execute_input": "2024-06-29T05:38:32.508179Z",
     "iopub.status.busy": "2024-06-29T05:38:32.507816Z",
     "iopub.status.idle": "2024-06-29T05:38:33.110116Z",
     "shell.execute_reply": "2024-06-29T05:38:33.109252Z"
    },
    "papermill": {
     "duration": 0.616601,
     "end_time": "2024-06-29T05:38:33.112601",
     "exception": false,
     "start_time": "2024-06-29T05:38:32.496000",
     "status": "completed"
    },
    "tags": []
   },
   "outputs": [],
   "source": [
    "#Dropping the features that containing more missing values and unnecessary features\n",
    "train_df=train_df.drop(['position_x', 'time_x', 'timetaken_in_millisec', 'fastestLap', 'rank','fastestLapTime', 'max_speed', 'time_y', 'url_x', 'fp1_date', 'fp1_time', 'fp2_date', 'fp2_time', 'fp3_date', 'fp3_time', 'quali_date', 'quali_time', 'sprint_date', 'sprint_time', 'driver_num','driver_code', 'url_y', 'url', 'positionText_y', 'resultId', 'racerId', 'driverRef', 'forename', 'surname'],axis=1)\n",
    "test_df=test_df.drop(['position_x', 'time_x', 'timetaken_in_millisec', 'fastestLap', 'rank','fastestLapTime', 'max_speed', 'time_y', 'url_x', 'fp1_date', 'fp1_time', 'fp2_date', 'fp2_time', 'fp3_date', 'fp3_time', 'quali_date', 'quali_time', 'sprint_date', 'sprint_time', 'driver_num','driver_code', 'url_y', 'url', 'resultId', 'racerId', 'driverRef', 'forename', 'surname'],axis=1)"
   ]
  },
  {
   "cell_type": "code",
   "execution_count": 15,
   "id": "60b9b8f9",
   "metadata": {
    "execution": {
     "iopub.execute_input": "2024-06-29T05:38:33.135659Z",
     "iopub.status.busy": "2024-06-29T05:38:33.135262Z",
     "iopub.status.idle": "2024-06-29T05:38:50.655129Z",
     "shell.execute_reply": "2024-06-29T05:38:50.654055Z"
    },
    "papermill": {
     "duration": 17.534287,
     "end_time": "2024-06-29T05:38:50.657632",
     "exception": false,
     "start_time": "2024-06-29T05:38:33.123345",
     "status": "completed"
    },
    "tags": []
   },
   "outputs": [],
   "source": [
    "#Handling Missing Values\n",
    "train_df.replace(['\\\\N'], pd.NA, inplace=True)\n",
    "train_df.replace(['R', 'N', 'W', 'D', 'F', 'E'], 0, inplace=True)\n",
    "train_df.dropna(inplace=True)\n",
    "test_df.replace(['\\\\N', 'R', 'N', 'W', 'D', 'F', 'E'], 0, inplace=True)"
   ]
  },
  {
   "cell_type": "code",
   "execution_count": 16,
   "id": "ac8f3809",
   "metadata": {
    "execution": {
     "iopub.execute_input": "2024-06-29T05:38:50.680819Z",
     "iopub.status.busy": "2024-06-29T05:38:50.680447Z",
     "iopub.status.idle": "2024-06-29T05:38:56.169275Z",
     "shell.execute_reply": "2024-06-29T05:38:56.168280Z"
    },
    "papermill": {
     "duration": 5.503365,
     "end_time": "2024-06-29T05:38:56.171818",
     "exception": false,
     "start_time": "2024-06-29T05:38:50.668453",
     "status": "completed"
    },
    "tags": []
   },
   "outputs": [],
   "source": [
    "#Encoding categorical variables\n",
    "from sklearn.preprocessing import LabelEncoder\n",
    "label_encoder = LabelEncoder()\n",
    "train_df['grand_prix'] = label_encoder.fit_transform(train_df['grand_prix'])\n",
    "train_df['nationality'] = label_encoder.fit_transform(train_df['nationality'])\n",
    "train_df['constructorRef'] = label_encoder.fit_transform(train_df['constructorRef'])\n",
    "train_df['company'] = label_encoder.fit_transform(train_df['company'])\n",
    "train_df['nationality_y'] = label_encoder.fit_transform(train_df['nationality_y'])\n",
    "train_df['status'] = label_encoder.fit_transform(train_df['status'])\n",
    "\n",
    "test_df['grand_prix'] = label_encoder.fit_transform(test_df['grand_prix'])\n",
    "test_df['nationality'] = label_encoder.fit_transform(test_df['nationality'])\n",
    "test_df['constructorRef'] = label_encoder.fit_transform(test_df['constructorRef'])\n",
    "test_df['company'] = label_encoder.fit_transform(test_df['company'])\n",
    "test_df['nationality_y'] = label_encoder.fit_transform(test_df['nationality_y'])\n",
    "test_df['status'] = label_encoder.fit_transform(test_df['status'])"
   ]
  },
  {
   "cell_type": "markdown",
   "id": "3e442c12",
   "metadata": {
    "papermill": {
     "duration": 0.010493,
     "end_time": "2024-06-29T05:38:56.193592",
     "exception": false,
     "start_time": "2024-06-29T05:38:56.183099",
     "status": "completed"
    },
    "tags": []
   },
   "source": [
    "**Feature Engineering**"
   ]
  },
  {
   "cell_type": "code",
   "execution_count": 17,
   "id": "a41321ed",
   "metadata": {
    "execution": {
     "iopub.execute_input": "2024-06-29T05:38:56.216726Z",
     "iopub.status.busy": "2024-06-29T05:38:56.216333Z",
     "iopub.status.idle": "2024-06-29T05:38:57.270788Z",
     "shell.execute_reply": "2024-06-29T05:38:57.269684Z"
    },
    "papermill": {
     "duration": 1.068943,
     "end_time": "2024-06-29T05:38:57.273400",
     "exception": false,
     "start_time": "2024-06-29T05:38:56.204457",
     "status": "completed"
    },
    "tags": []
   },
   "outputs": [
    {
     "name": "stderr",
     "output_type": "stream",
     "text": [
      "/tmp/ipykernel_18/3935338225.py:4: UserWarning: Could not infer format, so each element will be parsed individually, falling back to `dateutil`. To ensure parsing is consistent and as-expected, please specify a format.\n",
      "  test_df['dob'] = pd.to_datetime(test_df['dob'])\n",
      "/tmp/ipykernel_18/3935338225.py:5: UserWarning: Could not infer format, so each element will be parsed individually, falling back to `dateutil`. To ensure parsing is consistent and as-expected, please specify a format.\n",
      "  test_df['date'] = pd.to_datetime(test_df['date'])\n"
     ]
    }
   ],
   "source": [
    "#Drivers Age\n",
    "train_df['dob'] = pd.to_datetime(train_df['dob'])\n",
    "train_df['date'] = pd.to_datetime(train_df['date'])\n",
    "test_df['dob'] = pd.to_datetime(test_df['dob'])\n",
    "test_df['date'] = pd.to_datetime(test_df['date'])\n",
    "\n",
    "train_df['driver_age'] = train_df['date'].dt.year - train_df['dob'].dt.year\n",
    "test_df['driver_age'] = test_df['date'].dt.year - test_df['dob'].dt.year"
   ]
  },
  {
   "cell_type": "code",
   "execution_count": 18,
   "id": "6bcefd37",
   "metadata": {
    "execution": {
     "iopub.execute_input": "2024-06-29T05:38:57.297429Z",
     "iopub.status.busy": "2024-06-29T05:38:57.296780Z",
     "iopub.status.idle": "2024-06-29T05:38:57.745628Z",
     "shell.execute_reply": "2024-06-29T05:38:57.744623Z"
    },
    "papermill": {
     "duration": 0.463701,
     "end_time": "2024-06-29T05:38:57.748168",
     "exception": false,
     "start_time": "2024-06-29T05:38:57.284467",
     "status": "completed"
    },
    "tags": []
   },
   "outputs": [],
   "source": [
    "#Remove dob and Date of the race\n",
    "train_df=train_df.drop(['dob', 'date'],axis=1)\n",
    "test_df=test_df.drop(['dob', 'date'],axis=1)"
   ]
  },
  {
   "cell_type": "code",
   "execution_count": 19,
   "id": "cb667c06",
   "metadata": {
    "execution": {
     "iopub.execute_input": "2024-06-29T05:38:57.772097Z",
     "iopub.status.busy": "2024-06-29T05:38:57.771082Z",
     "iopub.status.idle": "2024-06-29T05:38:57.789494Z",
     "shell.execute_reply": "2024-06-29T05:38:57.788415Z"
    },
    "papermill": {
     "duration": 0.033674,
     "end_time": "2024-06-29T05:38:57.792732",
     "exception": false,
     "start_time": "2024-06-29T05:38:57.759058",
     "status": "completed"
    },
    "tags": []
   },
   "outputs": [],
   "source": [
    "# Change in position\n",
    "train_df['position_change'] = train_df['grid'] - train_df['positionOrder']\n",
    "test_df['position_change'] = test_df['grid'] - test_df['positionOrder']"
   ]
  },
  {
   "cell_type": "markdown",
   "id": "52817db9",
   "metadata": {
    "papermill": {
     "duration": 0.010375,
     "end_time": "2024-06-29T05:38:57.814208",
     "exception": false,
     "start_time": "2024-06-29T05:38:57.803833",
     "status": "completed"
    },
    "tags": []
   },
   "source": [
    "**Build Machine Learning Model**"
   ]
  },
  {
   "cell_type": "code",
   "execution_count": 20,
   "id": "12ac72b7",
   "metadata": {
    "execution": {
     "iopub.execute_input": "2024-06-29T05:38:57.837759Z",
     "iopub.status.busy": "2024-06-29T05:38:57.837362Z",
     "iopub.status.idle": "2024-06-29T05:38:58.214236Z",
     "shell.execute_reply": "2024-06-29T05:38:58.213160Z"
    },
    "papermill": {
     "duration": 0.392218,
     "end_time": "2024-06-29T05:38:58.217309",
     "exception": false,
     "start_time": "2024-06-29T05:38:57.825091",
     "status": "completed"
    },
    "tags": []
   },
   "outputs": [
    {
     "data": {
      "text/plain": [
       "driverId                  0\n",
       "constructorId             0\n",
       "number                    0\n",
       "grid                      0\n",
       "positionText_x            0\n",
       "positionOrder             0\n",
       "points                    0\n",
       "laps                      0\n",
       "statusId                  0\n",
       "year                      0\n",
       "round                     0\n",
       "circuitId                 0\n",
       "grand_prix                0\n",
       "nationality               0\n",
       "driverStandingsId         0\n",
       "raceId_y                  0\n",
       "points_y                  0\n",
       "position                  0\n",
       "wins                      0\n",
       "constructorRef            0\n",
       "company                   0\n",
       "nationality_y             0\n",
       "status                    0\n",
       "result_driver_standing    0\n",
       "driver_age                0\n",
       "position_change           0\n",
       "dtype: int64"
      ]
     },
     "execution_count": 20,
     "metadata": {},
     "output_type": "execute_result"
    }
   ],
   "source": [
    "train_df.isnull().sum()"
   ]
  },
  {
   "cell_type": "code",
   "execution_count": 21,
   "id": "31e751b6",
   "metadata": {
    "execution": {
     "iopub.execute_input": "2024-06-29T05:38:58.242121Z",
     "iopub.status.busy": "2024-06-29T05:38:58.241711Z",
     "iopub.status.idle": "2024-06-29T05:38:58.521755Z",
     "shell.execute_reply": "2024-06-29T05:38:58.520864Z"
    },
    "papermill": {
     "duration": 0.295087,
     "end_time": "2024-06-29T05:38:58.524267",
     "exception": false,
     "start_time": "2024-06-29T05:38:58.229180",
     "status": "completed"
    },
    "tags": []
   },
   "outputs": [],
   "source": [
    "X_train=train_df.drop(columns='position',axis=1)\n",
    "y_train=train_df['position']"
   ]
  },
  {
   "cell_type": "code",
   "execution_count": 22,
   "id": "1c4ff83e",
   "metadata": {
    "execution": {
     "iopub.execute_input": "2024-06-29T05:38:58.548044Z",
     "iopub.status.busy": "2024-06-29T05:38:58.547629Z",
     "iopub.status.idle": "2024-06-29T05:55:56.187078Z",
     "shell.execute_reply": "2024-06-29T05:55:56.186018Z"
    },
    "papermill": {
     "duration": 1017.664866,
     "end_time": "2024-06-29T05:55:56.200345",
     "exception": false,
     "start_time": "2024-06-29T05:38:58.535479",
     "status": "completed"
    },
    "tags": []
   },
   "outputs": [
    {
     "data": {
      "text/html": [
       "<style>#sk-container-id-1 {color: black;background-color: white;}#sk-container-id-1 pre{padding: 0;}#sk-container-id-1 div.sk-toggleable {background-color: white;}#sk-container-id-1 label.sk-toggleable__label {cursor: pointer;display: block;width: 100%;margin-bottom: 0;padding: 0.3em;box-sizing: border-box;text-align: center;}#sk-container-id-1 label.sk-toggleable__label-arrow:before {content: \"▸\";float: left;margin-right: 0.25em;color: #696969;}#sk-container-id-1 label.sk-toggleable__label-arrow:hover:before {color: black;}#sk-container-id-1 div.sk-estimator:hover label.sk-toggleable__label-arrow:before {color: black;}#sk-container-id-1 div.sk-toggleable__content {max-height: 0;max-width: 0;overflow: hidden;text-align: left;background-color: #f0f8ff;}#sk-container-id-1 div.sk-toggleable__content pre {margin: 0.2em;color: black;border-radius: 0.25em;background-color: #f0f8ff;}#sk-container-id-1 input.sk-toggleable__control:checked~div.sk-toggleable__content {max-height: 200px;max-width: 100%;overflow: auto;}#sk-container-id-1 input.sk-toggleable__control:checked~label.sk-toggleable__label-arrow:before {content: \"▾\";}#sk-container-id-1 div.sk-estimator input.sk-toggleable__control:checked~label.sk-toggleable__label {background-color: #d4ebff;}#sk-container-id-1 div.sk-label input.sk-toggleable__control:checked~label.sk-toggleable__label {background-color: #d4ebff;}#sk-container-id-1 input.sk-hidden--visually {border: 0;clip: rect(1px 1px 1px 1px);clip: rect(1px, 1px, 1px, 1px);height: 1px;margin: -1px;overflow: hidden;padding: 0;position: absolute;width: 1px;}#sk-container-id-1 div.sk-estimator {font-family: monospace;background-color: #f0f8ff;border: 1px dotted black;border-radius: 0.25em;box-sizing: border-box;margin-bottom: 0.5em;}#sk-container-id-1 div.sk-estimator:hover {background-color: #d4ebff;}#sk-container-id-1 div.sk-parallel-item::after {content: \"\";width: 100%;border-bottom: 1px solid gray;flex-grow: 1;}#sk-container-id-1 div.sk-label:hover label.sk-toggleable__label {background-color: #d4ebff;}#sk-container-id-1 div.sk-serial::before {content: \"\";position: absolute;border-left: 1px solid gray;box-sizing: border-box;top: 0;bottom: 0;left: 50%;z-index: 0;}#sk-container-id-1 div.sk-serial {display: flex;flex-direction: column;align-items: center;background-color: white;padding-right: 0.2em;padding-left: 0.2em;position: relative;}#sk-container-id-1 div.sk-item {position: relative;z-index: 1;}#sk-container-id-1 div.sk-parallel {display: flex;align-items: stretch;justify-content: center;background-color: white;position: relative;}#sk-container-id-1 div.sk-item::before, #sk-container-id-1 div.sk-parallel-item::before {content: \"\";position: absolute;border-left: 1px solid gray;box-sizing: border-box;top: 0;bottom: 0;left: 50%;z-index: -1;}#sk-container-id-1 div.sk-parallel-item {display: flex;flex-direction: column;z-index: 1;position: relative;background-color: white;}#sk-container-id-1 div.sk-parallel-item:first-child::after {align-self: flex-end;width: 50%;}#sk-container-id-1 div.sk-parallel-item:last-child::after {align-self: flex-start;width: 50%;}#sk-container-id-1 div.sk-parallel-item:only-child::after {width: 0;}#sk-container-id-1 div.sk-dashed-wrapped {border: 1px dashed gray;margin: 0 0.4em 0.5em 0.4em;box-sizing: border-box;padding-bottom: 0.4em;background-color: white;}#sk-container-id-1 div.sk-label label {font-family: monospace;font-weight: bold;display: inline-block;line-height: 1.2em;}#sk-container-id-1 div.sk-label-container {text-align: center;}#sk-container-id-1 div.sk-container {/* jupyter's `normalize.less` sets `[hidden] { display: none; }` but bootstrap.min.css set `[hidden] { display: none !important; }` so we also need the `!important` here to be able to override the default hidden behavior on the sphinx rendered scikit-learn.org. See: https://github.com/scikit-learn/scikit-learn/issues/21755 */display: inline-block !important;position: relative;}#sk-container-id-1 div.sk-text-repr-fallback {display: none;}</style><div id=\"sk-container-id-1\" class=\"sk-top-container\"><div class=\"sk-text-repr-fallback\"><pre>RandomForestRegressor(max_depth=10, max_features=&#x27;sqrt&#x27;, min_samples_leaf=2,\n",
       "                      min_samples_split=5, n_estimators=200, random_state=127)</pre><b>In a Jupyter environment, please rerun this cell to show the HTML representation or trust the notebook. <br />On GitHub, the HTML representation is unable to render, please try loading this page with nbviewer.org.</b></div><div class=\"sk-container\" hidden><div class=\"sk-item\"><div class=\"sk-estimator sk-toggleable\"><input class=\"sk-toggleable__control sk-hidden--visually\" id=\"sk-estimator-id-1\" type=\"checkbox\" checked><label for=\"sk-estimator-id-1\" class=\"sk-toggleable__label sk-toggleable__label-arrow\">RandomForestRegressor</label><div class=\"sk-toggleable__content\"><pre>RandomForestRegressor(max_depth=10, max_features=&#x27;sqrt&#x27;, min_samples_leaf=2,\n",
       "                      min_samples_split=5, n_estimators=200, random_state=127)</pre></div></div></div></div></div>"
      ],
      "text/plain": [
       "RandomForestRegressor(max_depth=10, max_features='sqrt', min_samples_leaf=2,\n",
       "                      min_samples_split=5, n_estimators=200, random_state=127)"
      ]
     },
     "execution_count": 22,
     "metadata": {},
     "output_type": "execute_result"
    }
   ],
   "source": [
    "from sklearn.ensemble import RandomForestRegressor\n",
    "rf = RandomForestRegressor(n_estimators=200, max_depth=10, min_samples_split=5, min_samples_leaf=2, max_features='sqrt', random_state=127)\n",
    "rf.fit(X_train,y_train)"
   ]
  },
  {
   "cell_type": "code",
   "execution_count": 23,
   "id": "a1c5c18e",
   "metadata": {
    "execution": {
     "iopub.execute_input": "2024-06-29T05:55:56.224239Z",
     "iopub.status.busy": "2024-06-29T05:55:56.223302Z",
     "iopub.status.idle": "2024-06-29T05:55:59.418782Z",
     "shell.execute_reply": "2024-06-29T05:55:59.417703Z"
    },
    "papermill": {
     "duration": 3.209987,
     "end_time": "2024-06-29T05:55:59.421241",
     "exception": false,
     "start_time": "2024-06-29T05:55:56.211254",
     "status": "completed"
    },
    "tags": []
   },
   "outputs": [],
   "source": [
    "predictions = rf.predict(test_df)"
   ]
  },
  {
   "cell_type": "code",
   "execution_count": 24,
   "id": "7dcf0819",
   "metadata": {
    "execution": {
     "iopub.execute_input": "2024-06-29T05:55:59.445245Z",
     "iopub.status.busy": "2024-06-29T05:55:59.444382Z",
     "iopub.status.idle": "2024-06-29T05:55:59.449065Z",
     "shell.execute_reply": "2024-06-29T05:55:59.448112Z"
    },
    "papermill": {
     "duration": 0.018568,
     "end_time": "2024-06-29T05:55:59.450955",
     "exception": false,
     "start_time": "2024-06-29T05:55:59.432387",
     "status": "completed"
    },
    "tags": []
   },
   "outputs": [],
   "source": [
    "test_ids = test_df['result_driver_standing']"
   ]
  },
  {
   "cell_type": "code",
   "execution_count": 25,
   "id": "5559831e",
   "metadata": {
    "execution": {
     "iopub.execute_input": "2024-06-29T05:55:59.475151Z",
     "iopub.status.busy": "2024-06-29T05:55:59.474776Z",
     "iopub.status.idle": "2024-06-29T05:55:59.480690Z",
     "shell.execute_reply": "2024-06-29T05:55:59.479736Z"
    },
    "papermill": {
     "duration": 0.019915,
     "end_time": "2024-06-29T05:55:59.482620",
     "exception": false,
     "start_time": "2024-06-29T05:55:59.462705",
     "status": "completed"
    },
    "tags": []
   },
   "outputs": [],
   "source": [
    "submission_df = pd.DataFrame({'position': predictions , 'result_driver_standing': test_ids})"
   ]
  },
  {
   "cell_type": "code",
   "execution_count": 26,
   "id": "f0f6a899",
   "metadata": {
    "execution": {
     "iopub.execute_input": "2024-06-29T05:55:59.506581Z",
     "iopub.status.busy": "2024-06-29T05:55:59.505856Z",
     "iopub.status.idle": "2024-06-29T05:56:00.283474Z",
     "shell.execute_reply": "2024-06-29T05:56:00.282416Z"
    },
    "papermill": {
     "duration": 0.792281,
     "end_time": "2024-06-29T05:56:00.285983",
     "exception": false,
     "start_time": "2024-06-29T05:55:59.493702",
     "status": "completed"
    },
    "tags": []
   },
   "outputs": [],
   "source": [
    "submission_df.to_csv(\"submission.csv\", index=False)"
   ]
  }
 ],
 "metadata": {
  "kaggle": {
   "accelerator": "none",
   "dataSources": [
    {
     "databundleVersionId": 8965849,
     "sourceId": 82253,
     "sourceType": "competition"
    }
   ],
   "dockerImageVersionId": 30732,
   "isGpuEnabled": false,
   "isInternetEnabled": true,
   "language": "python",
   "sourceType": "notebook"
  },
  "kernelspec": {
   "display_name": "Python 3",
   "language": "python",
   "name": "python3"
  },
  "language_info": {
   "codemirror_mode": {
    "name": "ipython",
    "version": 3
   },
   "file_extension": ".py",
   "mimetype": "text/x-python",
   "name": "python",
   "nbconvert_exporter": "python",
   "pygments_lexer": "ipython3",
   "version": "3.10.13"
  },
  "papermill": {
   "default_parameters": {},
   "duration": 1122.556209,
   "end_time": "2024-06-29T05:56:01.922690",
   "environment_variables": {},
   "exception": null,
   "input_path": "__notebook__.ipynb",
   "output_path": "__notebook__.ipynb",
   "parameters": {},
   "start_time": "2024-06-29T05:37:19.366481",
   "version": "2.5.0"
  }
 },
 "nbformat": 4,
 "nbformat_minor": 5
}
